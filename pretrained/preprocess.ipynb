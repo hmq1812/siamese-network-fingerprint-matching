{
 "cells": [
  {
   "cell_type": "code",
   "execution_count": 19,
   "metadata": {},
   "outputs": [],
   "source": [
    "import cv2\n",
    "import matplotlib.pyplot as plt\n",
    "import numpy as np\n",
    "\n",
    "import glob, os"
   ]
  },
  {
   "cell_type": "code",
   "execution_count": 39,
   "metadata": {},
   "outputs": [],
   "source": [
    "def extract_label(img_path):\n",
    "    filename, _ = os.path.splitext(os.path.basename(img_path))\n",
    "    \n",
    "    subject_id, etc = filename.split('__')\n",
    "    gender, lr, finger, _ = etc.split('_')\n",
    "    \n",
    "    gender = 0 if gender == 'M' else 1\n",
    "    lr = 0 if lr =='Left' else 1\n",
    "    \n",
    "    if finger == 'thumb':\n",
    "        finger = 0\n",
    "    elif finger == 'index':\n",
    "        finger = 1\n",
    "    elif finger == 'middle':\n",
    "        finger = 2\n",
    "    elif finger == 'ring':\n",
    "        finger = 3\n",
    "    elif finger == 'little':\n",
    "        finger = 4\n",
    "        \n",
    "    return np.array([subject_id, gender, lr, finger], dtype=np.uint16)\n",
    "\n",
    "def extract_label2(img_path):\n",
    "    filename, _ = os.path.splitext(os.path.basename(img_path))\n",
    "    \n",
    "    subject_id, etc = filename.split('__')\n",
    "    gender, lr, finger, _, _ = etc.split('_')\n",
    "    \n",
    "    gender = 0 if gender == 'M' else 1\n",
    "    lr = 0 if lr =='Left' else 1\n",
    "    \n",
    "    if finger == 'thumb':\n",
    "        finger = 0\n",
    "    elif finger == 'index':\n",
    "        finger = 1\n",
    "    elif finger == 'middle':\n",
    "        finger = 2\n",
    "    elif finger == 'ring':\n",
    "        finger = 3\n",
    "    elif finger == 'little':\n",
    "        finger = 4\n",
    "        \n",
    "    return np.array([subject_id, gender, lr, finger], dtype=np.uint16)"
   ]
  },
  {
   "cell_type": "code",
   "execution_count": 37,
   "metadata": {},
   "outputs": [
    {
     "name": "stdout",
     "output_type": "stream",
     "text": [
      "6000\n"
     ]
    },
    {
     "data": {
      "text/plain": [
       "<matplotlib.image.AxesImage at 0x7f8b4164cc50>"
      ]
     },
     "execution_count": 37,
     "metadata": {},
     "output_type": "execute_result"
    },
    {
     "data": {
      "image/png": "[encoded data removed]",
      "text/plain": [
       "<matplotlib.figure.Figure at 0x7f8b4164ca20>"
      ]
     },
     "metadata": {
      "needs_background": "light"
     },
     "output_type": "display_data"
    }
   ],
   "source": [
    "img_list = sorted(glob.glob('Real/*.BMP'))\n",
    "print(len(img_list))\n",
    "\n",
    "imgs = np.empty((len(img_list), 96, 96), dtype=np.uint8)\n",
    "labels = np.empty((len(img_list), 4), dtype=np.uint16)\n",
    "\n",
    "for i, img_path in enumerate(img_list):\n",
    "    img = cv2.imread(img_path, cv2.IMREAD_GRAYSCALE)\n",
    "    img = cv2.resize(img, (96, 96))\n",
    "    imgs[i] = img\n",
    "    \n",
    "    # subject_id, gender, lr, finger\n",
    "    labels[i] = extract_label(img_path)\n",
    "    \n",
    "np.save('dataset/x_real.npy', imgs)\n",
    "np.save('dataset/y_real.npy', labels)\n",
    "\n",
    "plt.figure(figsize=(1, 1))\n",
    "plt.title(labels[-1])\n",
    "plt.imshow(imgs[-1], cmap='gray')"
   ]
  },
  {
   "cell_type": "code",
   "execution_count": 40,
   "metadata": {},
   "outputs": [
    {
     "name": "stdout",
     "output_type": "stream",
     "text": [
      "17931\n"
     ]
    },
    {
     "data": {
      "text/plain": [
       "<matplotlib.image.AxesImage at 0x7f8b41624b70>"
      ]
     },
     "execution_count": 40,
     "metadata": {},
     "output_type": "execute_result"
    },
    {
     "data": {
      "image/png": "[encoded data removed]",
      "text/plain": [
       "<matplotlib.figure.Figure at 0x7f8b41652be0>"
      ]
     },
     "metadata": {
      "needs_background": "light"
     },
     "output_type": "display_data"
    }
   ],
   "source": [
    "img_list = sorted(glob.glob('Altered/Altered-Easy/*.BMP'))\n",
    "print(len(img_list))\n",
    "\n",
    "imgs = np.empty((len(img_list), 96, 96), dtype=np.uint8)\n",
    "labels = np.empty((len(img_list), 4), dtype=np.uint16)\n",
    "\n",
    "for i, img_path in enumerate(img_list):\n",
    "    img = cv2.imread(img_path, cv2.IMREAD_GRAYSCALE)\n",
    "    img = cv2.resize(img, (96, 96))\n",
    "    imgs[i] = img\n",
    "    \n",
    "    # subject_id, gender, lr, finger\n",
    "    labels[i] = extract_label2(img_path)\n",
    "    \n",
    "np.save('dataset/x_easy.npy', imgs)\n",
    "np.save('dataset/y_easy.npy', labels)\n",
    "\n",
    "plt.figure(figsize=(1, 1))\n",
    "plt.title(labels[-1])\n",
    "plt.imshow(imgs[-1], cmap='gray')"
   ]
  },
  {
   "cell_type": "code",
   "execution_count": 42,
   "metadata": {},
   "outputs": [
    {
     "name": "stdout",
     "output_type": "stream",
     "text": [
      "17067\n"
     ]
    },
    {
     "data": {
      "text/plain": [
       "<matplotlib.image.AxesImage at 0x7f8b4136c198>"
      ]
     },
     "execution_count": 42,
     "metadata": {},
     "output_type": "execute_result"
    },
    {
     "data": {
      "image/png": "[encoded data removed]",
      "text/plain": [
       "<matplotlib.figure.Figure at 0x7f8b41368b00>"
      ]
     },
     "metadata": {
      "needs_background": "light"
     },
     "output_type": "display_data"
    }
   ],
   "source": [
    "img_list = sorted(glob.glob('Altered/Altered-Medium/*.BMP'))\n",
    "print(len(img_list))\n",
    "\n",
    "imgs = np.empty((len(img_list), 96, 96), dtype=np.uint8)\n",
    "labels = np.empty((len(img_list), 4), dtype=np.uint16)\n",
    "\n",
    "for i, img_path in enumerate(img_list):\n",
    "    img = cv2.imread(img_path, cv2.IMREAD_GRAYSCALE)\n",
    "    img = cv2.resize(img, (96, 96))\n",
    "    imgs[i] = img\n",
    "    \n",
    "    # subject_id, gender, lr, finger\n",
    "    labels[i] = extract_label2(img_path)\n",
    "    \n",
    "np.save('dataset/x_medium.npy', imgs)\n",
    "np.save('dataset/y_medium.npy', labels)\n",
    "\n",
    "plt.figure(figsize=(1, 1))\n",
    "plt.title(labels[-1])\n",
    "plt.imshow(imgs[-1], cmap='gray')"
   ]
  },
  {
   "cell_type": "code",
   "execution_count": 43,
   "metadata": {},
   "outputs": [
    {
     "name": "stdout",
     "output_type": "stream",
     "text": [
      "14272\n"
     ]
    },
    {
     "data": {
      "text/plain": [
       "<matplotlib.image.AxesImage at 0x7f8b401d86d8>"
      ]
     },
     "execution_count": 43,
     "metadata": {},
     "output_type": "execute_result"
    },
    {
     "data": {
      "image/png": "[encoded data removed]",
      "text/plain": [
       "<matplotlib.figure.Figure at 0x7f8b4136eb00>"
      ]
     },
     "metadata": {
      "needs_background": "light"
     },
     "output_type": "display_data"
    }
   ],
   "source": [
    "img_list = sorted(glob.glob('Altered/Altered-Hard/*.BMP'))\n",
    "print(len(img_list))\n",
    "\n",
    "imgs = np.empty((len(img_list), 96, 96), dtype=np.uint8)\n",
    "labels = np.empty((len(img_list), 4), dtype=np.uint16)\n",
    "\n",
    "for i, img_path in enumerate(img_list):\n",
    "    img = cv2.imread(img_path, cv2.IMREAD_GRAYSCALE)\n",
    "    img = cv2.resize(img, (96, 96))\n",
    "    imgs[i] = img\n",
    "    \n",
    "    # subject_id, gender, lr, finger\n",
    "    labels[i] = extract_label2(img_path)\n",
    "    \n",
    "np.save('dataset/x_hard.npy', imgs)\n",
    "np.save('dataset/y_hard.npy', labels)\n",
    "\n",
    "plt.figure(figsize=(1, 1))\n",
    "plt.title(labels[-1])\n",
    "plt.imshow(imgs[-1], cmap='gray')"
   ]
  },
  {
   "cell_type": "code",
   "execution_count": null,
   "metadata": {},
   "outputs": [],
   "source": []
  }
 ],
 "metadata": {
  "kernelspec": {
   "display_name": "tf",
   "language": "python",
   "name": "tf"
  },
  "language_info": {
   "codemirror_mode": {
    "name": "ipython",
    "version": 3
   },
   "file_extension": ".py",
   "mimetype": "text/x-python",
   "name": "python",
   "nbconvert_exporter": "python",
   "pygments_lexer": "ipython3",
   "version": "3.5.2"
  }
 },
 "nbformat": 4,
 "nbformat_minor": 2
}
